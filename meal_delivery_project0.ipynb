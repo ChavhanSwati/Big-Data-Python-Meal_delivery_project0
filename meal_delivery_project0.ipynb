{
 "cells": [
  {
   "cell_type": "code",
   "execution_count": 6,
   "id": "9c140161",
   "metadata": {},
   "outputs": [],
   "source": [
    "# File data\n",
    "doc=[{\"meal_id\":1885,\"category\":\"Beverages\",\"cuisine\":\"Thai\"},{\"meal_id\":1993,\"category\":\"Beverages\",\"cuisine\":\"Thai\"},{\"meal_id\":2539,\"category\":\"Beverages\",\"cuisine\":\"Thai\"},{\"meal_id\":1248,\"category\":\"Beverages\",\"cuisine\":\"Indian\"},{\"meal_id\":2631,\"category\":\"Beverages\",\"cuisine\":\"Indian\"},{\"meal_id\":1311,\"category\":\"Extras\",\"cuisine\":\"Thai\"},{\"meal_id\":1062,\"category\":\"Beverages\",\"cuisine\":\"Italian\"},{\"meal_id\":1778,\"category\":\"Beverages\",\"cuisine\":\"Italian\"},{\"meal_id\":1803,\"category\":\"Extras\",\"cuisine\":\"Thai\"},{\"meal_id\":1198,\"category\":\"Extras\",\"cuisine\":\"Thai\"},{\"meal_id\":2707,\"category\":\"Beverages\",\"cuisine\":\"Italian\"},{\"meal_id\":1847,\"category\":\"Soup\",\"cuisine\":\"Thai\"},{\"meal_id\":1438,\"category\":\"Soup\",\"cuisine\":\"Thai\"},{\"meal_id\":2494,\"category\":\"Soup\",\"cuisine\":\"Thai\"},{\"meal_id\":2760,\"category\":\"Other Snacks\",\"cuisine\":\"Thai\"},{\"meal_id\":2490,\"category\":\"Salad\",\"cuisine\":\"Italian\"},{\"meal_id\":1109,\"category\":\"Rice Bowl\",\"cuisine\":\"Indian\"},{\"meal_id\":2290,\"category\":\"Rice Bowl\",\"cuisine\":\"Indian\"},{\"meal_id\":1525,\"category\":\"Other Snacks\",\"cuisine\":\"Thai\"},{\"meal_id\":2704,\"category\":\"Other Snacks\",\"cuisine\":\"Thai\"},{\"meal_id\":1878,\"category\":\"Starters\",\"cuisine\":\"Thai\"},{\"meal_id\":2640,\"category\":\"Starters\",\"cuisine\":\"Thai\"},{\"meal_id\":2577,\"category\":\"Starters\",\"cuisine\":\"Thai\"},{\"meal_id\":1754,\"category\":\"Sandwich\",\"cuisine\":\"Italian\"},{\"meal_id\":1971,\"category\":\"Sandwich\",\"cuisine\":\"Italian\"},{\"meal_id\":2306,\"category\":\"Pasta\",\"cuisine\":\"Italian\"},{\"meal_id\":2139,\"category\":\"Beverages\",\"cuisine\":\"Indian\"},{\"meal_id\":2826,\"category\":\"Sandwich\",\"cuisine\":\"Italian\"},{\"meal_id\":2664,\"category\":\"Salad\",\"cuisine\":\"Italian\"},{\"meal_id\":2569,\"category\":\"Salad\",\"cuisine\":\"Italian\"},{\"meal_id\":1230,\"category\":\"Beverages\",\"cuisine\":\"Continental\"},{\"meal_id\":1207,\"category\":\"Beverages\",\"cuisine\":\"Continental\"},{\"meal_id\":2322,\"category\":\"Beverages\",\"cuisine\":\"Continental\"},{\"meal_id\":2492,\"category\":\"Desert\",\"cuisine\":\"Indian\"},{\"meal_id\":1216,\"category\":\"Pasta\",\"cuisine\":\"Italian\"},{\"meal_id\":1727,\"category\":\"Rice Bowl\",\"cuisine\":\"Indian\"},{\"meal_id\":1902,\"category\":\"Biryani\",\"cuisine\":\"Indian\"},{\"meal_id\":1247,\"category\":\"Biryani\",\"cuisine\":\"Indian\"},{\"meal_id\":2304,\"category\":\"Desert\",\"cuisine\":\"Indian\"},{\"meal_id\":1543,\"category\":\"Desert\",\"cuisine\":\"Indian\"},{\"meal_id\":1770,\"category\":\"Biryani\",\"cuisine\":\"Indian\"},{\"meal_id\":2126,\"category\":\"Pasta\",\"cuisine\":\"Italian\"},{\"meal_id\":1558,\"category\":\"Pizza\",\"cuisine\":\"Continental\"},{\"meal_id\":2581,\"category\":\"Pizza\",\"cuisine\":\"Continental\"},{\"meal_id\":1962,\"category\":\"Pizza\",\"cuisine\":\"Continental\"},{\"meal_id\":1571,\"category\":\"Fish\",\"cuisine\":\"Continental\"},{\"meal_id\":2956,\"category\":\"Fish\",\"cuisine\":\"Continental\"},{\"meal_id\":2104,\"category\":\"Fish\",\"cuisine\":\"Continental\"},{\"meal_id\":2444,\"category\":\"Seafood\",\"cuisine\":\"Continental\"},{\"meal_id\":2867,\"category\":\"Seafood\",\"cuisine\":\"Continental\"},{\"meal_id\":1445,\"category\":\"Seafood\",\"cuisine\":\"Continental\"}]"
   ]
  },
  {
   "cell_type": "code",
   "execution_count": 7,
   "id": "a7c5cd01",
   "metadata": {},
   "outputs": [],
   "source": [
    "# Connection to MongoDB instance\n",
    "import pymongo \n",
    "from pymongo import MongoClient"
   ]
  },
  {
   "cell_type": "code",
   "execution_count": 8,
   "id": "44bae33d",
   "metadata": {},
   "outputs": [],
   "source": [
    "# Estabilishing a connection\n",
    "client = pymongo.MongoClient(\"localhost\",27017)"
   ]
  },
  {
   "cell_type": "code",
   "execution_count": 9,
   "id": "da11e6b2",
   "metadata": {},
   "outputs": [],
   "source": [
    "# Creating a database\n",
    "database = client[\"project\"]\n",
    "collection = database[\"Meal_Info\"]"
   ]
  },
  {
   "cell_type": "code",
   "execution_count": 10,
   "id": "46ceac7a",
   "metadata": {},
   "outputs": [],
   "source": [
    "# Insert into meal info [insert_many]\n",
    "result=collection.insert_many(doc)"
   ]
  },
  {
   "cell_type": "code",
   "execution_count": 6,
   "id": "ef7ca67e",
   "metadata": {},
   "outputs": [
    {
     "data": {
      "text/plain": [
       "{'_id': ObjectId('60e579f5b22624271306b2d8'),\n",
       " 'meal_id': 1885,\n",
       " 'category': 'Beverages',\n",
       " 'cuisine': 'Thai'}"
      ]
     },
     "execution_count": 6,
     "metadata": {},
     "output_type": "execute_result"
    }
   ],
   "source": [
    "#find one\n",
    "collection.find_one()"
   ]
  },
  {
   "cell_type": "code",
   "execution_count": 7,
   "id": "1744d59f",
   "metadata": {},
   "outputs": [
    {
     "data": {
      "text/plain": [
       "<pymongo.cursor.Cursor at 0x1998dff43a0>"
      ]
     },
     "execution_count": 7,
     "metadata": {},
     "output_type": "execute_result"
    }
   ],
   "source": [
    "collection.find()"
   ]
  },
  {
   "cell_type": "code",
   "execution_count": 8,
   "id": "09e7c35f",
   "metadata": {},
   "outputs": [
    {
     "name": "stdout",
     "output_type": "stream",
     "text": [
      "{'_id': ObjectId('60e579f5b22624271306b2d8'), 'meal_id': 1885, 'category': 'Beverages', 'cuisine': 'Thai'}\n",
      "{'_id': ObjectId('60e579f5b22624271306b2d9'), 'meal_id': 1993, 'category': 'Beverages', 'cuisine': 'Thai'}\n",
      "{'_id': ObjectId('60e579f5b22624271306b2da'), 'meal_id': 2539, 'category': 'Beverages', 'cuisine': 'Thai'}\n",
      "{'_id': ObjectId('60e579f5b22624271306b2db'), 'meal_id': 1248, 'category': 'Beverages', 'cuisine': 'Indian'}\n",
      "{'_id': ObjectId('60e579f5b22624271306b2dc'), 'meal_id': 2631, 'category': 'Beverages', 'cuisine': 'Indian'}\n",
      "{'_id': ObjectId('60e579f5b22624271306b2dd'), 'meal_id': 1311, 'category': 'Extras', 'cuisine': 'Thai'}\n",
      "{'_id': ObjectId('60e579f5b22624271306b2de'), 'meal_id': 1062, 'category': 'Beverages', 'cuisine': 'Italian'}\n",
      "{'_id': ObjectId('60e579f5b22624271306b2df'), 'meal_id': 1778, 'category': 'Beverages', 'cuisine': 'Italian'}\n",
      "{'_id': ObjectId('60e579f5b22624271306b2e0'), 'meal_id': 1803, 'category': 'Extras', 'cuisine': 'Thai'}\n",
      "{'_id': ObjectId('60e579f5b22624271306b2e1'), 'meal_id': 1198, 'category': 'Extras', 'cuisine': 'Thai'}\n",
      "{'_id': ObjectId('60e579f5b22624271306b2e2'), 'meal_id': 2707, 'category': 'Beverages', 'cuisine': 'Italian'}\n",
      "{'_id': ObjectId('60e579f5b22624271306b2e3'), 'meal_id': 1847, 'category': 'Soup', 'cuisine': 'Thai'}\n",
      "{'_id': ObjectId('60e579f5b22624271306b2e4'), 'meal_id': 1438, 'category': 'Soup', 'cuisine': 'Thai'}\n",
      "{'_id': ObjectId('60e579f5b22624271306b2e5'), 'meal_id': 2494, 'category': 'Soup', 'cuisine': 'Thai'}\n",
      "{'_id': ObjectId('60e579f5b22624271306b2e6'), 'meal_id': 2760, 'category': 'Other Snacks', 'cuisine': 'Thai'}\n",
      "{'_id': ObjectId('60e579f5b22624271306b2e7'), 'meal_id': 2490, 'category': 'Salad', 'cuisine': 'Italian'}\n",
      "{'_id': ObjectId('60e579f5b22624271306b2e8'), 'meal_id': 1109, 'category': 'Rice Bowl', 'cuisine': 'Indian'}\n",
      "{'_id': ObjectId('60e579f5b22624271306b2e9'), 'meal_id': 2290, 'category': 'Rice Bowl', 'cuisine': 'Indian'}\n",
      "{'_id': ObjectId('60e579f5b22624271306b2ea'), 'meal_id': 1525, 'category': 'Other Snacks', 'cuisine': 'Thai'}\n",
      "{'_id': ObjectId('60e579f5b22624271306b2eb'), 'meal_id': 2704, 'category': 'Other Snacks', 'cuisine': 'Thai'}\n",
      "{'_id': ObjectId('60e579f5b22624271306b2ec'), 'meal_id': 1878, 'category': 'Starters', 'cuisine': 'Thai'}\n",
      "{'_id': ObjectId('60e579f5b22624271306b2ed'), 'meal_id': 2640, 'category': 'Starters', 'cuisine': 'Thai'}\n",
      "{'_id': ObjectId('60e579f5b22624271306b2ee'), 'meal_id': 2577, 'category': 'Starters', 'cuisine': 'Thai'}\n",
      "{'_id': ObjectId('60e579f5b22624271306b2ef'), 'meal_id': 1754, 'category': 'Sandwich', 'cuisine': 'Italian'}\n",
      "{'_id': ObjectId('60e579f5b22624271306b2f0'), 'meal_id': 1971, 'category': 'Sandwich', 'cuisine': 'Italian'}\n",
      "{'_id': ObjectId('60e579f5b22624271306b2f1'), 'meal_id': 2306, 'category': 'Pasta', 'cuisine': 'Italian'}\n",
      "{'_id': ObjectId('60e579f5b22624271306b2f2'), 'meal_id': 2139, 'category': 'Beverages', 'cuisine': 'Indian'}\n",
      "{'_id': ObjectId('60e579f5b22624271306b2f3'), 'meal_id': 2826, 'category': 'Sandwich', 'cuisine': 'Italian'}\n",
      "{'_id': ObjectId('60e579f5b22624271306b2f4'), 'meal_id': 2664, 'category': 'Salad', 'cuisine': 'Italian'}\n",
      "{'_id': ObjectId('60e579f5b22624271306b2f5'), 'meal_id': 2569, 'category': 'Salad', 'cuisine': 'Italian'}\n",
      "{'_id': ObjectId('60e579f5b22624271306b2f6'), 'meal_id': 1230, 'category': 'Beverages', 'cuisine': 'Continental'}\n",
      "{'_id': ObjectId('60e579f5b22624271306b2f7'), 'meal_id': 1207, 'category': 'Beverages', 'cuisine': 'Continental'}\n",
      "{'_id': ObjectId('60e579f5b22624271306b2f8'), 'meal_id': 2322, 'category': 'Beverages', 'cuisine': 'Continental'}\n",
      "{'_id': ObjectId('60e579f5b22624271306b2f9'), 'meal_id': 2492, 'category': 'Desert', 'cuisine': 'Indian'}\n",
      "{'_id': ObjectId('60e579f5b22624271306b2fa'), 'meal_id': 1216, 'category': 'Pasta', 'cuisine': 'Italian'}\n",
      "{'_id': ObjectId('60e579f5b22624271306b2fb'), 'meal_id': 1727, 'category': 'Rice Bowl', 'cuisine': 'Indian'}\n",
      "{'_id': ObjectId('60e579f5b22624271306b2fc'), 'meal_id': 1902, 'category': 'Biryani', 'cuisine': 'Indian'}\n",
      "{'_id': ObjectId('60e579f5b22624271306b2fd'), 'meal_id': 1247, 'category': 'Biryani', 'cuisine': 'Indian'}\n",
      "{'_id': ObjectId('60e579f5b22624271306b2fe'), 'meal_id': 2304, 'category': 'Desert', 'cuisine': 'Indian'}\n",
      "{'_id': ObjectId('60e579f5b22624271306b2ff'), 'meal_id': 1543, 'category': 'Desert', 'cuisine': 'Indian'}\n",
      "{'_id': ObjectId('60e579f5b22624271306b300'), 'meal_id': 1770, 'category': 'Biryani', 'cuisine': 'Indian'}\n",
      "{'_id': ObjectId('60e579f5b22624271306b301'), 'meal_id': 2126, 'category': 'Pasta', 'cuisine': 'Italian'}\n",
      "{'_id': ObjectId('60e579f5b22624271306b302'), 'meal_id': 1558, 'category': 'Pizza', 'cuisine': 'Continental'}\n",
      "{'_id': ObjectId('60e579f5b22624271306b303'), 'meal_id': 2581, 'category': 'Pizza', 'cuisine': 'Continental'}\n",
      "{'_id': ObjectId('60e579f5b22624271306b304'), 'meal_id': 1962, 'category': 'Pizza', 'cuisine': 'Continental'}\n",
      "{'_id': ObjectId('60e579f5b22624271306b305'), 'meal_id': 1571, 'category': 'Fish', 'cuisine': 'Continental'}\n",
      "{'_id': ObjectId('60e579f5b22624271306b306'), 'meal_id': 2956, 'category': 'Fish', 'cuisine': 'Continental'}\n",
      "{'_id': ObjectId('60e579f5b22624271306b307'), 'meal_id': 2104, 'category': 'Fish', 'cuisine': 'Continental'}\n",
      "{'_id': ObjectId('60e579f5b22624271306b308'), 'meal_id': 2444, 'category': 'Seafood', 'cuisine': 'Continental'}\n",
      "{'_id': ObjectId('60e579f5b22624271306b309'), 'meal_id': 2867, 'category': 'Seafood', 'cuisine': 'Continental'}\n",
      "{'_id': ObjectId('60e579f5b22624271306b30a'), 'meal_id': 1445, 'category': 'Seafood', 'cuisine': 'Continental'}\n"
     ]
    }
   ],
   "source": [
    "#find _many\n",
    "for i in collection.find({}):\n",
    "    print(i)"
   ]
  },
  {
   "cell_type": "code",
   "execution_count": 17,
   "id": "7e6bcbe9",
   "metadata": {},
   "outputs": [
    {
     "data": {
      "text/plain": [
       "<pymongo.results.DeleteResult at 0x1998dff5580>"
      ]
     },
     "execution_count": 17,
     "metadata": {},
     "output_type": "execute_result"
    }
   ],
   "source": [
    "# Delete_one\n",
    "collection.delete_one({'_id':1})"
   ]
  },
  {
   "cell_type": "code",
   "execution_count": 18,
   "id": "b29587d0",
   "metadata": {},
   "outputs": [
    {
     "data": {
      "text/plain": [
       "<pymongo.results.DeleteResult at 0x1998dff5640>"
      ]
     },
     "execution_count": 18,
     "metadata": {},
     "output_type": "execute_result"
    }
   ],
   "source": [
    "# Delete many\n",
    "collection.delete_many({})"
   ]
  },
  {
   "cell_type": "code",
   "execution_count": 20,
   "id": "7dedddb3",
   "metadata": {},
   "outputs": [
    {
     "data": {
      "text/plain": [
       "<pymongo.results.InsertManyResult at 0x1998dfef8c0>"
      ]
     },
     "execution_count": 20,
     "metadata": {},
     "output_type": "execute_result"
    }
   ],
   "source": [
    "# To insert the elements again after deleting\n",
    "collection.insert_many(doc)"
   ]
  },
  {
   "cell_type": "code",
   "execution_count": 21,
   "id": "c9dbe6b2",
   "metadata": {},
   "outputs": [
    {
     "data": {
      "text/plain": [
       "[{'_id': ObjectId('60e59acbb22624271306b33e'),\n",
       "  'meal_id': 1445,\n",
       "  'category': 'Seafood',\n",
       "  'cuisine': 'Continental'},\n",
       " {'_id': ObjectId('60e59acbb22624271306b33d'),\n",
       "  'meal_id': 2867,\n",
       "  'category': 'Seafood',\n",
       "  'cuisine': 'Continental'},\n",
       " {'_id': ObjectId('60e59acbb22624271306b33c'),\n",
       "  'meal_id': 2444,\n",
       "  'category': 'Seafood',\n",
       "  'cuisine': 'Continental'},\n",
       " {'_id': ObjectId('60e59acbb22624271306b33b'),\n",
       "  'meal_id': 2104,\n",
       "  'category': 'Fish',\n",
       "  'cuisine': 'Continental'},\n",
       " {'_id': ObjectId('60e59acbb22624271306b33a'),\n",
       "  'meal_id': 2956,\n",
       "  'category': 'Fish',\n",
       "  'cuisine': 'Continental'},\n",
       " {'_id': ObjectId('60e59acbb22624271306b339'),\n",
       "  'meal_id': 1571,\n",
       "  'category': 'Fish',\n",
       "  'cuisine': 'Continental'},\n",
       " {'_id': ObjectId('60e59acbb22624271306b338'),\n",
       "  'meal_id': 1962,\n",
       "  'category': 'Pizza',\n",
       "  'cuisine': 'Continental'},\n",
       " {'_id': ObjectId('60e59acbb22624271306b337'),\n",
       "  'meal_id': 2581,\n",
       "  'category': 'Pizza',\n",
       "  'cuisine': 'Continental'},\n",
       " {'_id': ObjectId('60e59acbb22624271306b336'),\n",
       "  'meal_id': 1558,\n",
       "  'category': 'Pizza',\n",
       "  'cuisine': 'Continental'},\n",
       " {'_id': ObjectId('60e59acbb22624271306b335'),\n",
       "  'meal_id': 2126,\n",
       "  'category': 'Pasta',\n",
       "  'cuisine': 'Italian'},\n",
       " {'_id': ObjectId('60e59acbb22624271306b334'),\n",
       "  'meal_id': 1770,\n",
       "  'category': 'Biryani',\n",
       "  'cuisine': 'Indian'},\n",
       " {'_id': ObjectId('60e59acbb22624271306b333'),\n",
       "  'meal_id': 1543,\n",
       "  'category': 'Desert',\n",
       "  'cuisine': 'Indian'},\n",
       " {'_id': ObjectId('60e59acbb22624271306b332'),\n",
       "  'meal_id': 2304,\n",
       "  'category': 'Desert',\n",
       "  'cuisine': 'Indian'},\n",
       " {'_id': ObjectId('60e59acbb22624271306b331'),\n",
       "  'meal_id': 1247,\n",
       "  'category': 'Biryani',\n",
       "  'cuisine': 'Indian'},\n",
       " {'_id': ObjectId('60e59acbb22624271306b330'),\n",
       "  'meal_id': 1902,\n",
       "  'category': 'Biryani',\n",
       "  'cuisine': 'Indian'},\n",
       " {'_id': ObjectId('60e59acbb22624271306b32f'),\n",
       "  'meal_id': 1727,\n",
       "  'category': 'Rice Bowl',\n",
       "  'cuisine': 'Indian'},\n",
       " {'_id': ObjectId('60e59acbb22624271306b32e'),\n",
       "  'meal_id': 1216,\n",
       "  'category': 'Pasta',\n",
       "  'cuisine': 'Italian'},\n",
       " {'_id': ObjectId('60e59acbb22624271306b32d'),\n",
       "  'meal_id': 2492,\n",
       "  'category': 'Desert',\n",
       "  'cuisine': 'Indian'},\n",
       " {'_id': ObjectId('60e59acbb22624271306b32c'),\n",
       "  'meal_id': 2322,\n",
       "  'category': 'Beverages',\n",
       "  'cuisine': 'Continental'},\n",
       " {'_id': ObjectId('60e59acbb22624271306b32b'),\n",
       "  'meal_id': 1207,\n",
       "  'category': 'Beverages',\n",
       "  'cuisine': 'Continental'},\n",
       " {'_id': ObjectId('60e59acbb22624271306b32a'),\n",
       "  'meal_id': 1230,\n",
       "  'category': 'Beverages',\n",
       "  'cuisine': 'Continental'},\n",
       " {'_id': ObjectId('60e59acbb22624271306b329'),\n",
       "  'meal_id': 2569,\n",
       "  'category': 'Salad',\n",
       "  'cuisine': 'Italian'},\n",
       " {'_id': ObjectId('60e59acbb22624271306b328'),\n",
       "  'meal_id': 2664,\n",
       "  'category': 'Salad',\n",
       "  'cuisine': 'Italian'},\n",
       " {'_id': ObjectId('60e59acbb22624271306b327'),\n",
       "  'meal_id': 2826,\n",
       "  'category': 'Sandwich',\n",
       "  'cuisine': 'Italian'},\n",
       " {'_id': ObjectId('60e59acbb22624271306b326'),\n",
       "  'meal_id': 2139,\n",
       "  'category': 'Beverages',\n",
       "  'cuisine': 'Indian'},\n",
       " {'_id': ObjectId('60e59acbb22624271306b325'),\n",
       "  'meal_id': 2306,\n",
       "  'category': 'Pasta',\n",
       "  'cuisine': 'Italian'},\n",
       " {'_id': ObjectId('60e59acbb22624271306b324'),\n",
       "  'meal_id': 1971,\n",
       "  'category': 'Sandwich',\n",
       "  'cuisine': 'Italian'},\n",
       " {'_id': ObjectId('60e59acbb22624271306b323'),\n",
       "  'meal_id': 1754,\n",
       "  'category': 'Sandwich',\n",
       "  'cuisine': 'Italian'},\n",
       " {'_id': ObjectId('60e59acbb22624271306b322'),\n",
       "  'meal_id': 2577,\n",
       "  'category': 'Starters',\n",
       "  'cuisine': 'Thai'},\n",
       " {'_id': ObjectId('60e59acbb22624271306b321'),\n",
       "  'meal_id': 2640,\n",
       "  'category': 'Starters',\n",
       "  'cuisine': 'Thai'},\n",
       " {'_id': ObjectId('60e59acbb22624271306b320'),\n",
       "  'meal_id': 1878,\n",
       "  'category': 'Starters',\n",
       "  'cuisine': 'Thai'},\n",
       " {'_id': ObjectId('60e59acbb22624271306b31f'),\n",
       "  'meal_id': 2704,\n",
       "  'category': 'Other Snacks',\n",
       "  'cuisine': 'Thai'},\n",
       " {'_id': ObjectId('60e59acbb22624271306b31e'),\n",
       "  'meal_id': 1525,\n",
       "  'category': 'Other Snacks',\n",
       "  'cuisine': 'Thai'},\n",
       " {'_id': ObjectId('60e59acbb22624271306b31d'),\n",
       "  'meal_id': 2290,\n",
       "  'category': 'Rice Bowl',\n",
       "  'cuisine': 'Indian'},\n",
       " {'_id': ObjectId('60e59acbb22624271306b31c'),\n",
       "  'meal_id': 1109,\n",
       "  'category': 'Rice Bowl',\n",
       "  'cuisine': 'Indian'},\n",
       " {'_id': ObjectId('60e59acbb22624271306b31b'),\n",
       "  'meal_id': 2490,\n",
       "  'category': 'Salad',\n",
       "  'cuisine': 'Italian'},\n",
       " {'_id': ObjectId('60e59acbb22624271306b31a'),\n",
       "  'meal_id': 2760,\n",
       "  'category': 'Other Snacks',\n",
       "  'cuisine': 'Thai'},\n",
       " {'_id': ObjectId('60e59acbb22624271306b319'),\n",
       "  'meal_id': 2494,\n",
       "  'category': 'Soup',\n",
       "  'cuisine': 'Thai'},\n",
       " {'_id': ObjectId('60e59acbb22624271306b318'),\n",
       "  'meal_id': 1438,\n",
       "  'category': 'Soup',\n",
       "  'cuisine': 'Thai'},\n",
       " {'_id': ObjectId('60e59acbb22624271306b317'),\n",
       "  'meal_id': 1847,\n",
       "  'category': 'Soup',\n",
       "  'cuisine': 'Thai'},\n",
       " {'_id': ObjectId('60e59acbb22624271306b316'),\n",
       "  'meal_id': 2707,\n",
       "  'category': 'Beverages',\n",
       "  'cuisine': 'Italian'},\n",
       " {'_id': ObjectId('60e59acbb22624271306b315'),\n",
       "  'meal_id': 1198,\n",
       "  'category': 'Extras',\n",
       "  'cuisine': 'Thai'},\n",
       " {'_id': ObjectId('60e59acbb22624271306b314'),\n",
       "  'meal_id': 1803,\n",
       "  'category': 'Extras',\n",
       "  'cuisine': 'Thai'},\n",
       " {'_id': ObjectId('60e59acbb22624271306b313'),\n",
       "  'meal_id': 1778,\n",
       "  'category': 'Beverages',\n",
       "  'cuisine': 'Italian'},\n",
       " {'_id': ObjectId('60e59acbb22624271306b312'),\n",
       "  'meal_id': 1062,\n",
       "  'category': 'Beverages',\n",
       "  'cuisine': 'Italian'},\n",
       " {'_id': ObjectId('60e59acbb22624271306b311'),\n",
       "  'meal_id': 1311,\n",
       "  'category': 'Extras',\n",
       "  'cuisine': 'Thai'},\n",
       " {'_id': ObjectId('60e59acbb22624271306b310'),\n",
       "  'meal_id': 2631,\n",
       "  'category': 'Beverages',\n",
       "  'cuisine': 'Indian'},\n",
       " {'_id': ObjectId('60e59acbb22624271306b30f'),\n",
       "  'meal_id': 1248,\n",
       "  'category': 'Beverages',\n",
       "  'cuisine': 'Indian'},\n",
       " {'_id': ObjectId('60e59acbb22624271306b30e'),\n",
       "  'meal_id': 2539,\n",
       "  'category': 'Beverages',\n",
       "  'cuisine': 'Thai'},\n",
       " {'_id': ObjectId('60e59acbb22624271306b30d'),\n",
       "  'meal_id': 1993,\n",
       "  'category': 'Beverages',\n",
       "  'cuisine': 'Thai'},\n",
       " {'_id': ObjectId('60e59acbb22624271306b30c'),\n",
       "  'meal_id': 1885,\n",
       "  'category': 'Beverages',\n",
       "  'cuisine': 'Thai'}]"
      ]
     },
     "execution_count": 21,
     "metadata": {},
     "output_type": "execute_result"
    }
   ],
   "source": [
    "#sort\n",
    "[i for i in collection.find().sort(\"_id\",-1)]"
   ]
  },
  {
   "cell_type": "code",
   "execution_count": 22,
   "id": "2f80241c",
   "metadata": {},
   "outputs": [
    {
     "name": "stdout",
     "output_type": "stream",
     "text": [
      "{'_id': ObjectId('60e59acbb22624271306b30c'), 'meal_id': 1885, 'category': 'Beverages', 'cuisine': 'Thai'}\n",
      "{'_id': ObjectId('60e59acbb22624271306b30d'), 'meal_id': 1993, 'category': 'Beverages', 'cuisine': 'Thai'}\n",
      "{'_id': ObjectId('60e59acbb22624271306b30e'), 'meal_id': 2539, 'category': 'Beverages', 'cuisine': 'Thai'}\n",
      "{'_id': ObjectId('60e59acbb22624271306b30f'), 'meal_id': 1248, 'category': 'Beverages', 'cuisine': 'Indian'}\n",
      "{'_id': ObjectId('60e59acbb22624271306b310'), 'meal_id': 2631, 'category': 'Beverages', 'cuisine': 'Indian'}\n",
      "{'_id': ObjectId('60e59acbb22624271306b311'), 'meal_id': 1311, 'category': 'Extras', 'cuisine': 'Thai'}\n",
      "{'_id': ObjectId('60e59acbb22624271306b312'), 'meal_id': 1062, 'category': 'Beverages', 'cuisine': 'Italian'}\n",
      "{'_id': ObjectId('60e59acbb22624271306b313'), 'meal_id': 1778, 'category': 'Beverages', 'cuisine': 'Italian'}\n",
      "{'_id': ObjectId('60e59acbb22624271306b314'), 'meal_id': 1803, 'category': 'Extras', 'cuisine': 'Thai'}\n",
      "{'_id': ObjectId('60e59acbb22624271306b315'), 'meal_id': 1198, 'category': 'Extras', 'cuisine': 'Thai'}\n",
      "{'_id': ObjectId('60e59acbb22624271306b316'), 'meal_id': 2707, 'category': 'Beverages', 'cuisine': 'Italian'}\n",
      "{'_id': ObjectId('60e59acbb22624271306b317'), 'meal_id': 1847, 'category': 'Soup', 'cuisine': 'Thai'}\n",
      "{'_id': ObjectId('60e59acbb22624271306b318'), 'meal_id': 1438, 'category': 'Soup', 'cuisine': 'Thai'}\n",
      "{'_id': ObjectId('60e59acbb22624271306b319'), 'meal_id': 2494, 'category': 'Soup', 'cuisine': 'Thai'}\n",
      "{'_id': ObjectId('60e59acbb22624271306b31a'), 'meal_id': 2760, 'category': 'Other Snacks', 'cuisine': 'Thai'}\n",
      "{'_id': ObjectId('60e59acbb22624271306b31b'), 'meal_id': 2490, 'category': 'Salad', 'cuisine': 'Italian'}\n",
      "{'_id': ObjectId('60e59acbb22624271306b31c'), 'meal_id': 1109, 'category': 'Rice Bowl', 'cuisine': 'Indian'}\n",
      "{'_id': ObjectId('60e59acbb22624271306b31d'), 'meal_id': 2290, 'category': 'Rice Bowl', 'cuisine': 'Indian'}\n",
      "{'_id': ObjectId('60e59acbb22624271306b31e'), 'meal_id': 1525, 'category': 'Other Snacks', 'cuisine': 'Thai'}\n",
      "{'_id': ObjectId('60e59acbb22624271306b31f'), 'meal_id': 2704, 'category': 'Other Snacks', 'cuisine': 'Thai'}\n",
      "{'_id': ObjectId('60e59acbb22624271306b320'), 'meal_id': 1878, 'category': 'Starters', 'cuisine': 'Thai'}\n",
      "{'_id': ObjectId('60e59acbb22624271306b321'), 'meal_id': 2640, 'category': 'Starters', 'cuisine': 'Thai'}\n",
      "{'_id': ObjectId('60e59acbb22624271306b322'), 'meal_id': 2577, 'category': 'Starters', 'cuisine': 'Thai'}\n",
      "{'_id': ObjectId('60e59acbb22624271306b323'), 'meal_id': 1754, 'category': 'Sandwich', 'cuisine': 'Italian'}\n",
      "{'_id': ObjectId('60e59acbb22624271306b324'), 'meal_id': 1971, 'category': 'Sandwich', 'cuisine': 'Italian'}\n",
      "{'_id': ObjectId('60e59acbb22624271306b325'), 'meal_id': 2306, 'category': 'Pasta', 'cuisine': 'Italian'}\n",
      "{'_id': ObjectId('60e59acbb22624271306b326'), 'meal_id': 2139, 'category': 'Beverages', 'cuisine': 'Indian'}\n",
      "{'_id': ObjectId('60e59acbb22624271306b327'), 'meal_id': 2826, 'category': 'Sandwich', 'cuisine': 'Italian'}\n",
      "{'_id': ObjectId('60e59acbb22624271306b328'), 'meal_id': 2664, 'category': 'Salad', 'cuisine': 'Italian'}\n",
      "{'_id': ObjectId('60e59acbb22624271306b329'), 'meal_id': 2569, 'category': 'Salad', 'cuisine': 'Italian'}\n",
      "{'_id': ObjectId('60e59acbb22624271306b32a'), 'meal_id': 1230, 'category': 'Beverages', 'cuisine': 'Continental'}\n",
      "{'_id': ObjectId('60e59acbb22624271306b32b'), 'meal_id': 1207, 'category': 'Beverages', 'cuisine': 'Continental'}\n",
      "{'_id': ObjectId('60e59acbb22624271306b32c'), 'meal_id': 2322, 'category': 'Beverages', 'cuisine': 'Continental'}\n",
      "{'_id': ObjectId('60e59acbb22624271306b32d'), 'meal_id': 2492, 'category': 'Desert', 'cuisine': 'Indian'}\n",
      "{'_id': ObjectId('60e59acbb22624271306b32e'), 'meal_id': 1216, 'category': 'Pasta', 'cuisine': 'Italian'}\n",
      "{'_id': ObjectId('60e59acbb22624271306b32f'), 'meal_id': 1727, 'category': 'Rice Bowl', 'cuisine': 'Indian'}\n",
      "{'_id': ObjectId('60e59acbb22624271306b330'), 'meal_id': 1902, 'category': 'Biryani', 'cuisine': 'Indian'}\n",
      "{'_id': ObjectId('60e59acbb22624271306b331'), 'meal_id': 1247, 'category': 'Biryani', 'cuisine': 'Indian'}\n",
      "{'_id': ObjectId('60e59acbb22624271306b332'), 'meal_id': 2304, 'category': 'Desert', 'cuisine': 'Indian'}\n",
      "{'_id': ObjectId('60e59acbb22624271306b333'), 'meal_id': 1543, 'category': 'Desert', 'cuisine': 'Indian'}\n",
      "{'_id': ObjectId('60e59acbb22624271306b334'), 'meal_id': 1770, 'category': 'Biryani', 'cuisine': 'Indian'}\n",
      "{'_id': ObjectId('60e59acbb22624271306b335'), 'meal_id': 2126, 'category': 'Pasta', 'cuisine': 'Italian'}\n",
      "{'_id': ObjectId('60e59acbb22624271306b336'), 'meal_id': 1558, 'category': 'Pizza', 'cuisine': 'Continental'}\n",
      "{'_id': ObjectId('60e59acbb22624271306b337'), 'meal_id': 2581, 'category': 'Pizza', 'cuisine': 'Continental'}\n",
      "{'_id': ObjectId('60e59acbb22624271306b338'), 'meal_id': 1962, 'category': 'Pizza', 'cuisine': 'Continental'}\n",
      "{'_id': ObjectId('60e59acbb22624271306b339'), 'meal_id': 1571, 'category': 'Fish', 'cuisine': 'Continental'}\n",
      "{'_id': ObjectId('60e59acbb22624271306b33a'), 'meal_id': 2956, 'category': 'Fish', 'cuisine': 'Continental'}\n",
      "{'_id': ObjectId('60e59acbb22624271306b33b'), 'meal_id': 2104, 'category': 'Fish', 'cuisine': 'Continental'}\n",
      "{'_id': ObjectId('60e59acbb22624271306b33c'), 'meal_id': 2444, 'category': 'Seafood', 'cuisine': 'Continental'}\n",
      "{'_id': ObjectId('60e59acbb22624271306b33d'), 'meal_id': 2867, 'category': 'Seafood', 'cuisine': 'Continental'}\n",
      "{'_id': ObjectId('60e59acbb22624271306b33e'), 'meal_id': 1445, 'category': 'Seafood', 'cuisine': 'Continental'}\n"
     ]
    }
   ],
   "source": [
    "#sort\n",
    "result = collection.find().sort(\"_id\",1)\n",
    "for i in result:\n",
    "    print(i)"
   ]
  },
  {
   "cell_type": "code",
   "execution_count": 24,
   "id": "c42f0307",
   "metadata": {},
   "outputs": [
    {
     "name": "stdout",
     "output_type": "stream",
     "text": [
      "{'_id': ObjectId('60e59acbb22624271306b30c'), 'meal_id': 1885, 'category': 'Beverages', 'cuisine': 'Thai'}\n",
      "{'_id': ObjectId('60e59acbb22624271306b30d'), 'meal_id': 1993, 'category': 'Beverages', 'cuisine': 'Thai'}\n",
      "{'_id': ObjectId('60e59acbb22624271306b30e'), 'meal_id': 2539, 'category': 'Beverages', 'cuisine': 'Thai'}\n",
      "{'_id': ObjectId('60e59acbb22624271306b30f'), 'meal_id': 1248, 'category': 'Beverages', 'cuisine': 'Indian'}\n",
      "{'_id': ObjectId('60e59acbb22624271306b310'), 'meal_id': 2631, 'category': 'Beverages', 'cuisine': 'Indian'}\n",
      "{'_id': ObjectId('60e59acbb22624271306b311'), 'meal_id': 1311, 'category': 'Extras', 'cuisine': 'Thai'}\n",
      "{'_id': ObjectId('60e59acbb22624271306b312'), 'meal_id': 1062, 'category': 'Beverages', 'cuisine': 'Italian'}\n",
      "{'_id': ObjectId('60e59acbb22624271306b313'), 'meal_id': 1778, 'category': 'Beverages', 'cuisine': 'Italian'}\n",
      "{'_id': ObjectId('60e59acbb22624271306b314'), 'meal_id': 1803, 'category': 'Extras', 'cuisine': 'Thai'}\n",
      "{'_id': ObjectId('60e59acbb22624271306b315'), 'meal_id': 1198, 'category': 'Extras', 'cuisine': 'Thai'}\n"
     ]
    }
   ],
   "source": [
    "#limit\n",
    "result_1 = collection.find().limit(10)\n",
    "for i in result_1:\n",
    "    print(i)"
   ]
  },
  {
   "cell_type": "code",
   "execution_count": 16,
   "id": "8e8b31fc",
   "metadata": {},
   "outputs": [],
   "source": [
    "# Insert_one\n",
    "var1 = {\"meal_id\":2,\"category\":\"Snacks\",\"cuisine\":\"Indian\"}\n",
    "res = collection.insert_one(var1)"
   ]
  },
  {
   "cell_type": "code",
   "execution_count": 14,
   "id": "00930276",
   "metadata": {},
   "outputs": [
    {
     "data": {
      "text/plain": [
       "ObjectId('60e7d9a989412c8ce2f56ea1')"
      ]
     },
     "execution_count": 14,
     "metadata": {},
     "output_type": "execute_result"
    }
   ],
   "source": [
    "# Inserted -> id...not ids{for a single value}\n",
    "value = res.inserted_id\n",
    "value"
   ]
  },
  {
   "cell_type": "code",
   "execution_count": null,
   "id": "8c6c43bc",
   "metadata": {},
   "outputs": [],
   "source": []
  }
 ],
 "metadata": {
  "kernelspec": {
   "display_name": "Python 3",
   "language": "python",
   "name": "python3"
  },
  "language_info": {
   "codemirror_mode": {
    "name": "ipython",
    "version": 3
   },
   "file_extension": ".py",
   "mimetype": "text/x-python",
   "name": "python",
   "nbconvert_exporter": "python",
   "pygments_lexer": "ipython3",
   "version": "3.8.8"
  }
 },
 "nbformat": 4,
 "nbformat_minor": 5
}
